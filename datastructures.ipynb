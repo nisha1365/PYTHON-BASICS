{
  "nbformat": 4,
  "nbformat_minor": 0,
  "metadata": {
    "colab": {
      "name": "datastructures.ipynb",
      "provenance": [],
      "include_colab_link": true
    },
    "kernelspec": {
      "name": "python3",
      "display_name": "Python 3"
    },
    "language_info": {
      "name": "python"
    }
  },
  "cells": [
    {
      "cell_type": "markdown",
      "metadata": {
        "id": "view-in-github",
        "colab_type": "text"
      },
      "source": [
        "<a href=\"https://colab.research.google.com/github/nisha1365/Python-basics/blob/main/datastructures.ipynb\" target=\"_parent\"><img src=\"https://colab.research.google.com/assets/colab-badge.svg\" alt=\"Open In Colab\"/></a>"
      ]
    },
    {
      "cell_type": "code",
      "execution_count": null,
      "metadata": {
        "id": "uZZVsavmc5MG"
      },
      "outputs": [],
      "source": [
        "# LIST\n",
        "a = [ 1, 2, 3, \"Potato\", \"Banana\", True, False ]\n",
        "# ORDERED, INDEXED"
      ]
    },
    {
      "cell_type": "code",
      "source": [
        "print(a[0]) # INDEX from left\n"
      ],
      "metadata": {
        "colab": {
          "base_uri": "https://localhost:8080/"
        },
        "id": "0K_dH1y0dPdc",
        "outputId": "6cba9203-30af-4381-bfb6-dd3c4635ef46"
      },
      "execution_count": null,
      "outputs": [
        {
          "output_type": "stream",
          "name": "stdout",
          "text": [
            "1\n"
          ]
        }
      ]
    },
    {
      "cell_type": "code",
      "source": [
        "print(a[-1]) # Index from RIGHT-> last element"
      ],
      "metadata": {
        "colab": {
          "base_uri": "https://localhost:8080/"
        },
        "id": "_REGg1fmdTvC",
        "outputId": "1ea4ad34-f9ff-471f-868b-a37a35032e01"
      },
      "execution_count": null,
      "outputs": [
        {
          "output_type": "stream",
          "name": "stdout",
          "text": [
            "False\n"
          ]
        }
      ]
    },
    {
      "cell_type": "code",
      "source": [
        "a\n",
        "# ORDER of elements inside the LIST DOES NOT CHANGE!"
      ],
      "metadata": {
        "colab": {
          "base_uri": "https://localhost:8080/"
        },
        "id": "QJfluwSVdZ9I",
        "outputId": "da3332e6-a748-4d4e-e0c7-c0c5f810a79e"
      },
      "execution_count": null,
      "outputs": [
        {
          "output_type": "execute_result",
          "data": {
            "text/plain": [
              "[1, 2, 3, 'Potato', 'Banana', True, False]"
            ]
          },
          "metadata": {},
          "execution_count": 4
        }
      ]
    },
    {
      "cell_type": "code",
      "source": [
        "# SET\n",
        "s = { \"Banana\", \"Banana\", 42, False, 0, \"Hippo\", \"Pikachu\", 99}\n"
      ],
      "metadata": {
        "id": "3svjIdA4ddJU"
      },
      "execution_count": null,
      "outputs": []
    },
    {
      "cell_type": "code",
      "source": [
        "s # False = 0"
      ],
      "metadata": {
        "colab": {
          "base_uri": "https://localhost:8080/"
        },
        "id": "cFFlG4Xtd7KQ",
        "outputId": "f52e464c-5f42-4efb-b286-91d2409a4122"
      },
      "execution_count": null,
      "outputs": [
        {
          "output_type": "execute_result",
          "data": {
            "text/plain": [
              "{42, 99, 'Banana', False, 'Hippo', 'Pikachu'}"
            ]
          },
          "metadata": {},
          "execution_count": 10
        }
      ]
    },
    {
      "cell_type": "code",
      "source": [
        "# UNIQUE ELEMENTS "
      ],
      "metadata": {
        "id": "AVOJ5oBcd7vu"
      },
      "execution_count": null,
      "outputs": []
    },
    {
      "cell_type": "code",
      "source": [
        "s[0] # ERROR -> UNINDEXED, UNORDERED!"
      ],
      "metadata": {
        "colab": {
          "base_uri": "https://localhost:8080/",
          "height": 166
        },
        "id": "cQKu9nHregNz",
        "outputId": "b4eeeafa-36ca-43fb-b196-82d04511ac10"
      },
      "execution_count": null,
      "outputs": [
        {
          "output_type": "error",
          "ename": "TypeError",
          "evalue": "ignored",
          "traceback": [
            "\u001b[0;31m---------------------------------------------------------------------------\u001b[0m",
            "\u001b[0;31mTypeError\u001b[0m                                 Traceback (most recent call last)",
            "\u001b[0;32m<ipython-input-13-b812ab8f1122>\u001b[0m in \u001b[0;36m<module>\u001b[0;34m\u001b[0m\n\u001b[0;32m----> 1\u001b[0;31m \u001b[0ms\u001b[0m\u001b[0;34m[\u001b[0m\u001b[0;36m0\u001b[0m\u001b[0;34m]\u001b[0m \u001b[0;31m# ERROR -> UNINDEXED, UNORDERED!\u001b[0m\u001b[0;34m\u001b[0m\u001b[0;34m\u001b[0m\u001b[0m\n\u001b[0m",
            "\u001b[0;31mTypeError\u001b[0m: 'set' object is not subscriptable"
          ]
        }
      ]
    },
    {
      "cell_type": "code",
      "source": [
        "# Tuple\n",
        "# READONLY\n",
        "# ONce created-> CANNOT BE EDITED\n",
        "t = (1,2,3)"
      ],
      "metadata": {
        "id": "14COy1Z7ek_-"
      },
      "execution_count": null,
      "outputs": []
    },
    {
      "cell_type": "code",
      "source": [
        "t[-1], t[0] # INDEXED, ORDERED"
      ],
      "metadata": {
        "colab": {
          "base_uri": "https://localhost:8080/"
        },
        "id": "bmIjxYo5e1gB",
        "outputId": "ec6fa1a1-e3dd-4475-94d2-4ffff8257ba2"
      },
      "execution_count": null,
      "outputs": [
        {
          "output_type": "execute_result",
          "data": {
            "text/plain": [
              "(3, 1)"
            ]
          },
          "metadata": {},
          "execution_count": 16
        }
      ]
    },
    {
      "cell_type": "code",
      "source": [
        "t[0] = \"Happy\" # ERROR-> READONLY not editable!"
      ],
      "metadata": {
        "colab": {
          "base_uri": "https://localhost:8080/",
          "height": 166
        },
        "id": "TopBcnkAe2ds",
        "outputId": "98b97442-0af4-4e97-a105-5aa808ff374c"
      },
      "execution_count": null,
      "outputs": [
        {
          "output_type": "error",
          "ename": "TypeError",
          "evalue": "ignored",
          "traceback": [
            "\u001b[0;31m---------------------------------------------------------------------------\u001b[0m",
            "\u001b[0;31mTypeError\u001b[0m                                 Traceback (most recent call last)",
            "\u001b[0;32m<ipython-input-17-49e3aa9fe940>\u001b[0m in \u001b[0;36m<module>\u001b[0;34m\u001b[0m\n\u001b[0;32m----> 1\u001b[0;31m \u001b[0mt\u001b[0m\u001b[0;34m[\u001b[0m\u001b[0;36m0\u001b[0m\u001b[0;34m]\u001b[0m \u001b[0;34m=\u001b[0m \u001b[0;34m\"Happy\"\u001b[0m \u001b[0;31m# ERROR-> READONLY not editable!\u001b[0m\u001b[0;34m\u001b[0m\u001b[0;34m\u001b[0m\u001b[0m\n\u001b[0m",
            "\u001b[0;31mTypeError\u001b[0m: 'tuple' object does not support item assignment"
          ]
        }
      ]
    },
    {
      "cell_type": "code",
      "source": [
        "# Dictionary\n",
        "# SET with INDEXES!\n",
        "# KEY-VALUE PAIRS-> keys are indexes, elements are values\n",
        "d = { \"Matrix\":\"Keanu\", \"Devil'sAdvocate\": \"Keanu\", \"FavFood\": \"Samosa\", 42: \"Life, Universe and Everything\", False: \"Bye bye\", 3.14: \"Value of Pi\"}"
      ],
      "metadata": {
        "id": "0wX5KibmfANY"
      },
      "execution_count": null,
      "outputs": []
    },
    {
      "cell_type": "code",
      "source": [
        "d[\"Matrix\"]"
      ],
      "metadata": {
        "colab": {
          "base_uri": "https://localhost:8080/",
          "height": 35
        },
        "id": "fTGt4Rxkff46",
        "outputId": "737c046b-67e1-43c3-be35-325afd1995cc"
      },
      "execution_count": null,
      "outputs": [
        {
          "output_type": "execute_result",
          "data": {
            "text/plain": [
              "'Keanu'"
            ],
            "application/vnd.google.colaboratory.intrinsic+json": {
              "type": "string"
            }
          },
          "metadata": {},
          "execution_count": 19
        }
      ]
    },
    {
      "cell_type": "code",
      "source": [
        "d[3.14]"
      ],
      "metadata": {
        "colab": {
          "base_uri": "https://localhost:8080/",
          "height": 35
        },
        "id": "trTa7Fgsfh2q",
        "outputId": "c526ecc3-3228-4912-f4d6-a43e224f67ad"
      },
      "execution_count": null,
      "outputs": [
        {
          "output_type": "execute_result",
          "data": {
            "text/plain": [
              "'Value of Pi'"
            ],
            "application/vnd.google.colaboratory.intrinsic+json": {
              "type": "string"
            }
          },
          "metadata": {},
          "execution_count": 20
        }
      ]
    },
    {
      "cell_type": "code",
      "source": [
        "d[42]"
      ],
      "metadata": {
        "colab": {
          "base_uri": "https://localhost:8080/",
          "height": 35
        },
        "id": "1SNHEiorfjkF",
        "outputId": "7032db81-6148-47b8-ddee-0d4d9540b011"
      },
      "execution_count": null,
      "outputs": [
        {
          "output_type": "execute_result",
          "data": {
            "text/plain": [
              "'Life, Universe and Everything'"
            ],
            "application/vnd.google.colaboratory.intrinsic+json": {
              "type": "string"
            }
          },
          "metadata": {},
          "execution_count": 21
        }
      ]
    },
    {
      "cell_type": "code",
      "source": [
        "d[55] = 42\n",
        "# New element inserted!\n"
      ],
      "metadata": {
        "id": "aFzkE-S_flK4"
      },
      "execution_count": null,
      "outputs": []
    },
    {
      "cell_type": "code",
      "source": [
        "# Dictionary is 2 separate lists-> KEYS and VALUES!\n",
        "for k,v in d.items():\n",
        "  print(\"Key = \", k, end=\",\")\n",
        "  print(\" Value = \", v)\n",
        "  # print-> by default changes the line!"
      ],
      "metadata": {
        "colab": {
          "base_uri": "https://localhost:8080/"
        },
        "id": "vqIgDvSlfrK_",
        "outputId": "1d757436-7c2c-467f-feab-65fd374e3f79"
      },
      "execution_count": null,
      "outputs": [
        {
          "output_type": "stream",
          "name": "stdout",
          "text": [
            "Key =  Matrix, Value =  Keanu\n",
            "Key =  Devil'sAdvocate, Value =  Keanu\n",
            "Key =  FavFood, Value =  Samosa\n",
            "Key =  42, Value =  Life, Universe and Everything\n",
            "Key =  False, Value =  Bye bye\n",
            "Key =  3.14, Value =  Value of Pi\n",
            "Key =  55, Value =  42\n"
          ]
        }
      ]
    },
    {
      "cell_type": "code",
      "source": [
        "d.items()"
      ],
      "metadata": {
        "colab": {
          "base_uri": "https://localhost:8080/"
        },
        "id": "t7suefMcf9dP",
        "outputId": "e4c2985e-20df-42e5-a4e1-18922c8bd62c"
      },
      "execution_count": null,
      "outputs": [
        {
          "output_type": "execute_result",
          "data": {
            "text/plain": [
              "dict_items([('Matrix', 'Keanu'), (\"Devil'sAdvocate\", 'Keanu'), ('FavFood', 'Samosa'), (42, 'Life, Universe and Everything'), (False, 'Bye bye'), (3.14, 'Value of Pi'), (55, 42)])"
            ]
          },
          "metadata": {},
          "execution_count": 24
        }
      ]
    },
    {
      "cell_type": "code",
      "source": [
        ""
      ],
      "metadata": {
        "id": "QGpQnaidgL8u"
      },
      "execution_count": null,
      "outputs": []
    }
  ]
}