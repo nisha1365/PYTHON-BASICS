{
  "nbformat": 4,
  "nbformat_minor": 0,
  "metadata": {
    "colab": {
      "provenance": [],
      "authorship_tag": "ABX9TyPvjfNA6fMawHOTLmKGXwYQ",
      "include_colab_link": true
    },
    "kernelspec": {
      "name": "python3",
      "display_name": "Python 3"
    },
    "language_info": {
      "name": "python"
    }
  },
  "cells": [
    {
      "cell_type": "markdown",
      "metadata": {
        "id": "view-in-github",
        "colab_type": "text"
      },
      "source": [
        "<a href=\"https://colab.research.google.com/github/nisha1365/Python-basics/blob/main/21_09_2022_Technical_session.ipynb\" target=\"_parent\"><img src=\"https://colab.research.google.com/assets/colab-badge.svg\" alt=\"Open In Colab\"/></a>"
      ]
    },
    {
      "cell_type": "markdown",
      "source": [
        "Write a Python function to create and print a list where the values are square of numbers between 1 and 30 (both included).\n"
      ],
      "metadata": {
        "id": "mTo08674KXUv"
      }
    },
    {
      "cell_type": "code",
      "source": [
        "def squarelist(): \n",
        "\tl=[] \n",
        "\tfor i in range(1,31): \n",
        "\t\tl.append(i*i) \n",
        "\treturn l \n",
        " \n",
        "l=[] \n",
        "l=squarelist() \n",
        "print(l) "
      ],
      "metadata": {
        "colab": {
          "base_uri": "https://localhost:8080/"
        },
        "id": "KxyMqFsrKcev",
        "outputId": "29582073-366d-416e-9495-05dd812601e4"
      },
      "execution_count": 1,
      "outputs": [
        {
          "output_type": "stream",
          "name": "stdout",
          "text": [
            "[1, 4, 9, 16, 25, 36, 49, 64, 81, 100, 121, 144, 169, 196, 225, 256, 289, 324, 361, 400, 441, 484, 529, 576, 625, 676, 729, 784, 841, 900]\n"
          ]
        }
      ]
    },
    {
      "cell_type": "markdown",
      "source": [
        "Write a Python function to calculate the factorial of a number (a non-negative integer). The function accepts the number as an argument."
      ],
      "metadata": {
        "id": "RN126zf_Kq0q"
      }
    },
    {
      "cell_type": "code",
      "source": [
        "def factorial(n): \n",
        "    p=1 \n",
        "    i=1 \n",
        "    while i<=n: \n",
        "       p= p*i \n",
        "       i+=1 \n",
        "    return p "
      ],
      "metadata": {
        "id": "muy-wHvfKuak"
      },
      "execution_count": 2,
      "outputs": []
    },
    {
      "cell_type": "code",
      "source": [
        "factorial(4) "
      ],
      "metadata": {
        "colab": {
          "base_uri": "https://localhost:8080/"
        },
        "id": "sa6ddbIOK__P",
        "outputId": "66af2f06-0742-4c90-d441-e5031c8b98d2"
      },
      "execution_count": 6,
      "outputs": [
        {
          "output_type": "execute_result",
          "data": {
            "text/plain": [
              "24"
            ]
          },
          "metadata": {},
          "execution_count": 6
        }
      ]
    },
    {
      "cell_type": "code",
      "source": [],
      "metadata": {
        "id": "bxlvPcVhLFk1"
      },
      "execution_count": 6,
      "outputs": []
    },
    {
      "cell_type": "code",
      "source": [],
      "metadata": {
        "id": "cK15U5z6LH9G"
      },
      "execution_count": null,
      "outputs": []
    }
  ]
}