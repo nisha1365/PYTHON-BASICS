{
 "cells": [
  {
   "cell_type": "code",
   "execution_count": 9,
   "metadata": {},
   "outputs": [
    {
     "name": "stdout",
     "output_type": "stream",
     "text": [
      "Nisha\n",
      "886012\n",
      "30000000\n"
     ]
    }
   ],
   "source": [
    "#parent_class\n",
    "class Person(object):\n",
    "    def __init__(self,name,Id_number):\n",
    "        self.name = name\n",
    "        self.Id_number = Id_number\n",
    "        \n",
    "    def display(self):\n",
    "        print(self.name)\n",
    "        print(self.Id_number)\n",
    "\n",
    "#child_class_one\n",
    "class Employee( Person ):            \n",
    "        def __init__(self, name, idnumber, salary): \n",
    "                self.salary = salary \n",
    "    \n",
    "                \n",
    "                Person.__init__(self, name, idnumber)  \n",
    "          \n",
    "        def show(self):\n",
    "            print(self.salary)\n",
    "    \n",
    "                    \n",
    "\n",
    "a = Employee('Nisha', 886012, 30000000)     \n",
    "    \n",
    "\n",
    "a.display()\n",
    "a.show() \n",
    "\n",
    "            \n",
    "            \n",
    "    "
   ]
  },
  {
   "cell_type": "code",
   "execution_count": 11,
   "metadata": {},
   "outputs": [
    {
     "name": "stdout",
     "output_type": "stream",
     "text": [
      "Nisha\n",
      "886012\n",
      "3\n",
      "10\n"
     ]
    }
   ],
   "source": [
    "#child_class_two\n",
    "class Floor( Person ):            \n",
    "        def __init__(self, name, idnumber,booth,sweeper): \n",
    "                self.booth = booth\n",
    "                self.sweeper = sweeper\n",
    "    \n",
    "                \n",
    "                Person.__init__(self, name, idnumber)  \n",
    "          \n",
    "        def show(self):\n",
    "            print(self.booth)\n",
    "            print(self.sweeper)\n",
    "    \n",
    "                    \n",
    "\n",
    "a = Floor('Nisha', 886012, 3,10)     \n",
    "    \n",
    "\n",
    "a.display()\n",
    "a.show() "
   ]
  },
  {
   "cell_type": "code",
   "execution_count": 14,
   "metadata": {},
   "outputs": [
    {
     "name": "stdout",
     "output_type": "stream",
     "text": [
      "Nisha\n",
      "886012\n",
      "75\n",
      "Green_zone\n"
     ]
    }
   ],
   "source": [
    "#child_class_three\n",
    "class semester( Person ):            \n",
    "        def __init__(self, name, idnumber,marks,strengths): \n",
    "                self.marks = marks\n",
    "                self.strengths = strengths\n",
    "    \n",
    "                \n",
    "                Person.__init__(self, name, idnumber)  \n",
    "          \n",
    "        def show(self):\n",
    "            print(self.marks)\n",
    "            print(self.strengths)\n",
    "    \n",
    "                    \n",
    "\n",
    "a = semester('Nisha', 886012, 75,'Green_zone')     \n",
    "    \n",
    "\n",
    "a.display()\n",
    "a.show() "
   ]
  },
  {
   "cell_type": "code",
   "execution_count": null,
   "metadata": {},
   "outputs": [],
   "source": []
  }
 ],
 "metadata": {
  "kernelspec": {
   "display_name": "Python 2",
   "language": "python",
   "name": "python2"
  },
  "language_info": {
   "codemirror_mode": {
    "name": "ipython",
    "version": 2
   },
   "file_extension": ".py",
   "mimetype": "text/x-python",
   "name": "python",
   "nbconvert_exporter": "python",
   "pygments_lexer": "ipython2",
   "version": "2.7.15"
  }
 },
 "nbformat": 4,
 "nbformat_minor": 2
}
