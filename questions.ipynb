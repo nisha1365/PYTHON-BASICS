{
  "nbformat": 4,
  "nbformat_minor": 0,
  "metadata": {
    "colab": {
      "name": "questions.ipynb",
      "provenance": [],
      "authorship_tag": "ABX9TyO5MFYp1EDLaLw21Ya19bFo",
      "include_colab_link": true
    },
    "kernelspec": {
      "name": "python3",
      "display_name": "Python 3"
    },
    "language_info": {
      "name": "python"
    }
  },
  "cells": [
    {
      "cell_type": "markdown",
      "metadata": {
        "id": "view-in-github",
        "colab_type": "text"
      },
      "source": [
        "<a href=\"https://colab.research.google.com/github/nisha1365/Python-basics/blob/main/questions.ipynb\" target=\"_parent\"><img src=\"https://colab.research.google.com/assets/colab-badge.svg\" alt=\"Open In Colab\"/></a>"
      ]
    },
    {
      "cell_type": "code",
      "source": [
        "string = input(\"Please enter any String : \")\n",
        "words = []\n",
        "\n",
        "words = string.split()\n",
        "frequency = [words.count(i) for i in words]\n",
        "\n",
        "myDict = dict(zip(words, frequency))\n",
        "print(\"Dictionary Items  :  \",  myDict)"
      ],
      "metadata": {
        "colab": {
          "base_uri": "https://localhost:8080/"
        },
        "id": "Z73GQC1A4dA5",
        "outputId": "6b8e04a5-d6c3-4d66-aeef-624f721940e9"
      },
      "execution_count": 26,
      "outputs": [
        {
          "output_type": "stream",
          "name": "stdout",
          "text": [
            "Please enter any String : hello how are you how are the potatoes\n",
            "Dictionary Items  :   {'hello': 1, 'how': 2, 'are': 2, 'you': 1, 'the': 1, 'potatoes': 1}\n"
          ]
        }
      ]
    }
  ]
}