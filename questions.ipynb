{
  "nbformat": 4,
  "nbformat_minor": 0,
  "metadata": {
    "colab": {
      "name": "questions.ipynb",
      "provenance": [],
      "authorship_tag": "ABX9TyNrpXNzEt1bmjbonEwHlWGf",
      "include_colab_link": true
    },
    "kernelspec": {
      "name": "python3",
      "display_name": "Python 3"
    },
    "language_info": {
      "name": "python"
    }
  },
  "cells": [
    {
      "cell_type": "markdown",
      "metadata": {
        "id": "view-in-github",
        "colab_type": "text"
      },
      "source": [
        "<a href=\"https://colab.research.google.com/github/nisha1365/Python-basics/blob/main/questions.ipynb\" target=\"_parent\"><img src=\"https://colab.research.google.com/assets/colab-badge.svg\" alt=\"Open In Colab\"/></a>"
      ]
    },
    {
      "cell_type": "code",
      "execution_count": 20,
      "metadata": {
        "colab": {
          "base_uri": "https://localhost:8080/"
        },
        "id": "oVqaAdcXmfIg",
        "outputId": "0fa6b925-b126-41f4-eb7b-dbf745d048ca"
      },
      "outputs": [
        {
          "name": "stdout",
          "output_type": "stream",
          "text": [
            "Enter the value here!: 25\n"
          ]
        }
      ],
      "source": [
        "\n",
        "num = int(input(\"Enter the value here!: \"))\n"
      ]
    },
    {
      "cell_type": "code",
      "source": [
        "\n",
        "if num > 1:\n",
        "    \n",
        "    for i in range(2, int(num/2)+1):\n",
        "        \n",
        "        if (num % i) == 0:\n",
        "            print(num, \"is not a prime number\")\n",
        "            break\n",
        "    else:\n",
        "        print(num, \"is a prime number\")\n",
        "else:\n",
        "    print(num, \"is not a prime number\")"
      ],
      "metadata": {
        "colab": {
          "base_uri": "https://localhost:8080/"
        },
        "id": "IrxcQ4xgyOBn",
        "outputId": "3b7aa0a7-2f69-43ab-9cbb-f5c80e37548f"
      },
      "execution_count": 25,
      "outputs": [
        {
          "output_type": "stream",
          "name": "stdout",
          "text": [
            "25 is not a prime number\n"
          ]
        }
      ]
    }
  ]
}