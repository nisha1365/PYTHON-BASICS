{
  "nbformat": 4,
  "nbformat_minor": 0,
  "metadata": {
    "colab": {
      "provenance": [],
      "authorship_tag": "ABX9TyMetQpxU4lNJmbX/B36NeQv",
      "include_colab_link": true
    },
    "kernelspec": {
      "name": "python3",
      "display_name": "Python 3"
    },
    "language_info": {
      "name": "python"
    }
  },
  "cells": [
    {
      "cell_type": "markdown",
      "metadata": {
        "id": "view-in-github",
        "colab_type": "text"
      },
      "source": [
        "<a href=\"https://colab.research.google.com/github/nisha1365/Python-basics/blob/main/Research_Text_Conversion.ipynb\" target=\"_parent\"><img src=\"https://colab.research.google.com/assets/colab-badge.svg\" alt=\"Open In Colab\"/></a>"
      ]
    },
    {
      "cell_type": "markdown",
      "source": [
        "# Python Libraries\n",
        "\n",
        "There are several libraries in Python for performing Automatic language translation, below are some of those Libraries but almost all of them are using Google Translate API.\n",
        "\n",
        "goslate\n",
        "\n",
        "googletrans\n",
        "\n",
        "translate\n",
        "\n",
        "py-translate\n",
        "\n",
        "TextBlob"
      ],
      "metadata": {
        "id": "DpgriikRJ_nu"
      }
    },
    {
      "cell_type": "markdown",
      "source": [
        "# **Goslate**\n",
        "\n",
        "Goslate provides you free python API to google translation service by querying the google translation website.\n",
        "goslate will automatically detect your primary language of the text and then translate it to the secondary language you specify, during specifying language you use ISO 639-1 code of the language, you can find the whole list in Wikipedia(https://en.wikipedia.org/wiki/List_of_ISO_639-1_codes)\n"
      ],
      "metadata": {
        "id": "WO-fcoEdKOLp"
      }
    },
    {
      "cell_type": "code",
      "source": [
        "!pip install goslate"
      ],
      "metadata": {
        "colab": {
          "base_uri": "https://localhost:8080/",
          "height": 363
        },
        "id": "m1K7xXQIKdAx",
        "outputId": "6a645cc0-1caf-4e23-dc28-ca1d3a292dd0"
      },
      "execution_count": null,
      "outputs": [
        {
          "output_type": "stream",
          "name": "stdout",
          "text": [
            "Collecting goslate\n",
            "  Downloading goslate-1.5.4.tar.gz (14 kB)\n",
            "  Preparing metadata (setup.py) ... \u001b[?25l\u001b[?25hdone\n",
            "Collecting futures (from goslate)\n",
            "  Downloading futures-3.0.5.tar.gz (25 kB)\n",
            "  Preparing metadata (setup.py) ... \u001b[?25l\u001b[?25hdone\n",
            "Building wheels for collected packages: goslate, futures\n",
            "  Building wheel for goslate (setup.py) ... \u001b[?25l\u001b[?25hdone\n",
            "  Created wheel for goslate: filename=goslate-1.5.4-py3-none-any.whl size=11579 sha256=a50d6705a9f0ca7530b07e6e14f3fb3eac46218c51271f4ead237419ef4a9165\n",
            "  Stored in directory: /root/.cache/pip/wheels/b5/30/e9/63b6de83667be2977ee793a146a2c80f8e588d5c0203b39dc9\n",
            "  Building wheel for futures (setup.py) ... \u001b[?25l\u001b[?25hdone\n",
            "  Created wheel for futures: filename=futures-3.0.5-py3-none-any.whl size=14069 sha256=d4c7fe96d3c4fc7e17f075e4c583efbdb670ba30c52e68f53b8192bd013c97fd\n",
            "  Stored in directory: /root/.cache/pip/wheels/ef/af/93/48739d464ba97d4cdc77c627d282f9794c8d276e42aaa92160\n",
            "Successfully built goslate futures\n",
            "Installing collected packages: futures, goslate\n",
            "Successfully installed futures-3.0.5 goslate-1.5.4\n"
          ]
        },
        {
          "output_type": "display_data",
          "data": {
            "application/vnd.colab-display-data+json": {
              "pip_warning": {
                "packages": [
                  "concurrent"
                ]
              }
            }
          },
          "metadata": {}
        }
      ]
    },
    {
      "cell_type": "code",
      "source": [
        "import goslate\n",
        "primary_text = \"Je t'aime beaucoup\"\n",
        "gs = goslate.Goslate()\n",
        "gs.translate(primary_text, 'en')\n"
      ],
      "metadata": {
        "colab": {
          "base_uri": "https://localhost:8080/",
          "height": 34
        },
        "id": "sV1PIfubKfVM",
        "outputId": "cfbf71ae-206e-4735-cf1f-e52e1b457e4f"
      },
      "execution_count": null,
      "outputs": [
        {
          "output_type": "execute_result",
          "data": {
            "text/plain": [
              "'I love you so much'"
            ],
            "application/vnd.google.colaboratory.intrinsic+json": {
              "type": "string"
            }
          },
          "metadata": {},
          "execution_count": 2
        }
      ]
    },
    {
      "cell_type": "markdown",
      "source": [
        "# **Googletrans**\n",
        "Googletrans is a free and unlimited python library that implemented Google Translate API. This uses the Google Translate Ajax API to make calls to such methods as detecting and translating.\n",
        "The simplicity of usage of googletrans and goslate is almost the same so it all comes to you choosing the one you like, same wise on googletrans we are using ISO 639-1 standard to represent languages."
      ],
      "metadata": {
        "id": "oLoreShxK_T1"
      }
    },
    {
      "cell_type": "markdown",
      "source": [
        "googletrans.LANGUAGES\n",
        "\n",
        "LANGUAGES = {\n",
        "    'af': 'afrikaans',\n",
        "    \n",
        "    'sq': 'albanian',\n",
        "    'am': 'amharic',\n",
        "    'ar': 'arabic',\n",
        "    'hy': 'armenian',\n",
        "    'az': 'azerbaijani',\n",
        "    'eu': 'basque',\n",
        "    'be': 'belarusian',\n",
        "    'bn': 'bengali',\n",
        "    'bs': 'bosnian',\n",
        "    'bg': 'bulgarian',\n",
        "    'ca': 'catalan',\n",
        "    'ceb': 'cebuano',\n",
        "    'ny': 'chichewa',\n",
        "    'zh-cn': 'chinese (simplified)',\n",
        "    'zh-tw': 'chinese (traditional)',\n",
        "    'co': 'corsican',\n",
        "    'hr': 'croatian',\n",
        "    'cs': 'czech',\n",
        "    'da': 'danish',\n",
        "    'nl': 'dutch',\n",
        "    'en': 'english',\n",
        "    'eo': 'esperanto',\n",
        "    'et': 'estonian',\n",
        "    'tl': 'filipino',\n",
        "    'fi': 'finnish',\n",
        "    'fr': 'french',\n",
        "    'fy': 'frisian',\n",
        "    'gl': 'galician',\n",
        "    'ka': 'georgian',\n",
        "    'de': 'german',\n",
        "    'el': 'greek',\n",
        "    'gu': 'gujarati',\n",
        "    'ht': 'haitian creole',\n",
        "    'ha': 'hausa',\n",
        "    'haw': 'hawaiian',\n",
        "    'iw': 'hebrew',\n",
        "    'he': 'hebrew',\n",
        "    'hi': 'hindi',\n",
        "    'hmn': 'hmong',\n",
        "    'hu': 'hungarian',\n",
        "    'is': 'icelandic',\n",
        "    'ig': 'igbo',\n",
        "    'id': 'indonesian',\n",
        "    'ga': 'irish',\n",
        "    'it': 'italian',\n",
        "    'ja': 'japanese',\n",
        "    'jw': 'javanese',\n",
        "    'kn': 'kannada',\n",
        "    'kk': 'kazakh',\n",
        "    'km': 'khmer',\n",
        "    'ko': 'korean',\n",
        "    'ku': 'kurdish (kurmanji)',\n",
        "    'ky': 'kyrgyz',\n",
        "    'lo': 'lao',\n",
        "    'la': 'latin',\n",
        "    'lv': 'latvian',\n",
        "    'lt': 'lithuanian',\n",
        "    'lb': 'luxembourgish',\n",
        "    'mk': 'macedonian',\n",
        "    'mg': 'malagasy',\n",
        "    'ms': 'malay',\n",
        "    'ml': 'malayalam',\n",
        "    'mt': 'maltese',\n",
        "    'mi': 'maori',\n",
        "    'mr': 'marathi',\n",
        "    'mn': 'mongolian',\n",
        "    'my': 'myanmar (burmese)',\n",
        "    'ne': 'nepali',\n",
        "    'no': 'norwegian',\n",
        "    'or': 'odia',\n",
        "    'ps': 'pashto',\n",
        "    'fa': 'persian',\n",
        "    'pl': 'polish',\n",
        "    'pt': 'portuguese',\n",
        "    'pa': 'punjabi',\n",
        "    'ro': 'romanian',\n",
        "    'ru': 'russian',\n",
        "    'sm': 'samoan',\n",
        "    'gd': 'scots gaelic',\n",
        "    'sr': 'serbian',\n",
        "    'st': 'sesotho',\n",
        "    'sn': 'shona',\n",
        "    'sd': 'sindhi',\n",
        "    'si': 'sinhala',\n",
        "    'sk': 'slovak',\n",
        "    'sl': 'slovenian',\n",
        "    'so': 'somali',\n",
        "    'es': 'spanish',\n",
        "    'su': 'sundanese',\n",
        "    'sw': 'swahili',\n",
        "    'sv': 'swedish',\n",
        "    'tg': 'tajik',\n",
        "    'ta': 'tamil',\n",
        "    'te': 'telugu',\n",
        "    'th': 'thai',\n",
        "    'tr': 'turkish',\n",
        "    'uk': 'ukrainian',\n",
        "    'ur': 'urdu',\n",
        "    'ug': 'uyghur',\n",
        "    'uz': 'uzbek',\n",
        "    'vi': 'vietnamese',\n",
        "    'cy': 'welsh',\n",
        "    'xh': 'xhosa',\n",
        "    'yi': 'yiddish',\n",
        "    'yo': 'yoruba',\n",
        "    'zu': 'zulu',"
      ],
      "metadata": {
        "id": "ogAXO1nPLLfy"
      }
    },
    {
      "cell_type": "code",
      "source": [
        "!pip install googletrans"
      ],
      "metadata": {
        "id": "WDOQ3PjuLMlf"
      },
      "execution_count": null,
      "outputs": []
    },
    {
      "cell_type": "code",
      "source": [
        "!pip3 uninstall googletrans\n",
        "!pip3 install googletrans==3.1.0a0"
      ],
      "metadata": {
        "colab": {
          "base_uri": "https://localhost:8080/"
        },
        "id": "Q9Ooc19cNUYE",
        "outputId": "617ca6e2-ad7c-4e62-a616-1afd30795cf5"
      },
      "execution_count": null,
      "outputs": [
        {
          "output_type": "stream",
          "name": "stdout",
          "text": [
            "Found existing installation: googletrans 3.1.0a0\n",
            "Uninstalling googletrans-3.1.0a0:\n",
            "  Would remove:\n",
            "    /usr/local/bin/translate\n",
            "    /usr/local/lib/python3.10/dist-packages/googletrans-3.1.0a0.dist-info/*\n",
            "    /usr/local/lib/python3.10/dist-packages/googletrans/*\n",
            "Proceed (Y/n)? Y\n",
            "  Successfully uninstalled googletrans-3.1.0a0\n",
            "Collecting googletrans==3.1.0a0\n",
            "  Using cached googletrans-3.1.0a0-py3-none-any.whl\n",
            "Requirement already satisfied: httpx==0.13.3 in /usr/local/lib/python3.10/dist-packages (from googletrans==3.1.0a0) (0.13.3)\n",
            "Requirement already satisfied: certifi in /usr/local/lib/python3.10/dist-packages (from httpx==0.13.3->googletrans==3.1.0a0) (2023.5.7)\n",
            "Requirement already satisfied: hstspreload in /usr/local/lib/python3.10/dist-packages (from httpx==0.13.3->googletrans==3.1.0a0) (2023.1.1)\n",
            "Requirement already satisfied: sniffio in /usr/local/lib/python3.10/dist-packages (from httpx==0.13.3->googletrans==3.1.0a0) (1.3.0)\n",
            "Requirement already satisfied: chardet==3.* in /usr/local/lib/python3.10/dist-packages (from httpx==0.13.3->googletrans==3.1.0a0) (3.0.4)\n",
            "Requirement already satisfied: idna==2.* in /usr/local/lib/python3.10/dist-packages (from httpx==0.13.3->googletrans==3.1.0a0) (2.10)\n",
            "Requirement already satisfied: rfc3986<2,>=1.3 in /usr/local/lib/python3.10/dist-packages (from httpx==0.13.3->googletrans==3.1.0a0) (1.5.0)\n",
            "Requirement already satisfied: httpcore==0.9.* in /usr/local/lib/python3.10/dist-packages (from httpx==0.13.3->googletrans==3.1.0a0) (0.9.1)\n",
            "Requirement already satisfied: h11<0.10,>=0.8 in /usr/local/lib/python3.10/dist-packages (from httpcore==0.9.*->httpx==0.13.3->googletrans==3.1.0a0) (0.9.0)\n",
            "Requirement already satisfied: h2==3.* in /usr/local/lib/python3.10/dist-packages (from httpcore==0.9.*->httpx==0.13.3->googletrans==3.1.0a0) (3.2.0)\n",
            "Requirement already satisfied: hyperframe<6,>=5.2.0 in /usr/local/lib/python3.10/dist-packages (from h2==3.*->httpcore==0.9.*->httpx==0.13.3->googletrans==3.1.0a0) (5.2.0)\n",
            "Requirement already satisfied: hpack<4,>=3.0 in /usr/local/lib/python3.10/dist-packages (from h2==3.*->httpcore==0.9.*->httpx==0.13.3->googletrans==3.1.0a0) (3.0.0)\n",
            "Installing collected packages: googletrans\n",
            "Successfully installed googletrans-3.1.0a0\n"
          ]
        }
      ]
    },
    {
      "cell_type": "markdown",
      "source": [
        "**Let's try converting some Swahili into Swahili **"
      ],
      "metadata": {
        "id": "nD-PIakLLUhE"
      }
    },
    {
      "cell_type": "code",
      "source": [
        "text = 'Tovuti hii ni ajabu'\n",
        "from googletrans import Translator\n",
        "translator = Translator()\n",
        "translator.translate(text , dest ='en').text\n"
      ],
      "metadata": {
        "id": "jN01ch12LqNM"
      },
      "execution_count": null,
      "outputs": []
    },
    {
      "cell_type": "markdown",
      "source": [
        "** you can catch the AttributeError that occurs when the translation is not available and handle it accordingly. In this example, the code will print a message indicating that the translation failed.**\n",
        "\n",
        "# AttributeError: 'NoneType' object has no attribute 'group'"
      ],
      "metadata": {
        "id": "MrY3KX1AMlPC"
      }
    },
    {
      "cell_type": "code",
      "source": [
        "from googletrans import Translator\n",
        "\n",
        "text = 'Tovuti hii ni ajabu'\n",
        "translator = Translator()\n",
        "\n",
        "try:\n",
        "    translation = translator.translate(text, dest='en').text\n",
        "    print(translation)\n",
        "except AttributeError:\n",
        "    print(\"Translation failed. Please try again later.\")"
      ],
      "metadata": {
        "colab": {
          "base_uri": "https://localhost:8080/"
        },
        "id": "QPGLxBK6MOfV",
        "outputId": "01159272-875a-44c0-f86a-6505b6615ed3"
      },
      "execution_count": null,
      "outputs": [
        {
          "output_type": "stream",
          "name": "stdout",
          "text": [
            "This site is amazing\n"
          ]
        }
      ]
    },
    {
      "cell_type": "markdown",
      "source": [
        "# **Deep Translator** -\n",
        "It is a flexible python package to translate between different languages in a simple way. Basically, the goal of the package is to integrate many translators including Google Translator, DeepL, Pons, Linguee and others in one extensive tool. I will give examples on how to use some of the translators here. However, I will not cover everything, therefore I encourage you to check the official docs afterwards."
      ],
      "metadata": {
        "id": "o477IuV6OynZ"
      }
    },
    {
      "cell_type": "code",
      "source": [
        "!pip install deep-translator"
      ],
      "metadata": {
        "colab": {
          "base_uri": "https://localhost:8080/"
        },
        "id": "lOf_57HGMnsd",
        "outputId": "e287e810-0ab1-451f-f2dc-c94c20e64ba0"
      },
      "execution_count": null,
      "outputs": [
        {
          "output_type": "stream",
          "name": "stdout",
          "text": [
            "Collecting deep-translator\n",
            "  Downloading deep_translator-1.11.4-py3-none-any.whl (42 kB)\n",
            "\u001b[?25l     \u001b[90m━━━━━━━━━━━━━━━━━━━━━━━━━━━━━━━━━━━━━━━━\u001b[0m \u001b[32m0.0/42.3 kB\u001b[0m \u001b[31m?\u001b[0m eta \u001b[36m-:--:--\u001b[0m\r\u001b[2K     \u001b[90m━━━━━━━━━━━━━━━━━━━━━━━━━━━━━━━━━━━━━━━━\u001b[0m \u001b[32m42.3/42.3 kB\u001b[0m \u001b[31m2.8 MB/s\u001b[0m eta \u001b[36m0:00:00\u001b[0m\n",
            "\u001b[?25hRequirement already satisfied: beautifulsoup4<5.0.0,>=4.9.1 in /usr/local/lib/python3.10/dist-packages (from deep-translator) (4.11.2)\n",
            "Requirement already satisfied: requests<3.0.0,>=2.23.0 in /usr/local/lib/python3.10/dist-packages (from deep-translator) (2.27.1)\n",
            "Requirement already satisfied: soupsieve>1.2 in /usr/local/lib/python3.10/dist-packages (from beautifulsoup4<5.0.0,>=4.9.1->deep-translator) (2.4.1)\n",
            "Requirement already satisfied: urllib3<1.27,>=1.21.1 in /usr/local/lib/python3.10/dist-packages (from requests<3.0.0,>=2.23.0->deep-translator) (1.26.16)\n",
            "Requirement already satisfied: certifi>=2017.4.17 in /usr/local/lib/python3.10/dist-packages (from requests<3.0.0,>=2.23.0->deep-translator) (2023.5.7)\n",
            "Requirement already satisfied: charset-normalizer~=2.0.0 in /usr/local/lib/python3.10/dist-packages (from requests<3.0.0,>=2.23.0->deep-translator) (2.0.12)\n",
            "Requirement already satisfied: idna<4,>=2.5 in /usr/local/lib/python3.10/dist-packages (from requests<3.0.0,>=2.23.0->deep-translator) (2.10)\n",
            "Installing collected packages: deep-translator\n",
            "Successfully installed deep-translator-1.11.4\n"
          ]
        }
      ]
    },
    {
      "cell_type": "markdown",
      "source": [
        "In the code below, the value auto is used to let google translator detect which language is used as the source language and the target value is given as an abbreviation, which stands for german in this case."
      ],
      "metadata": {
        "id": "5gjv0X7FPN7M"
      }
    },
    {
      "cell_type": "code",
      "source": [
        "from deep_translator import GoogleTranslator\n",
        "to_translate = 'Ich möchte diesen Text übersetzen'\n",
        "translated = GoogleTranslator(source='auto', target='en').translate(to_translate)\n",
        "translated"
      ],
      "metadata": {
        "colab": {
          "base_uri": "https://localhost:8080/",
          "height": 34
        },
        "id": "Lw7RT4rgPKX3",
        "outputId": "10fd5664-de16-43e1-f8f6-12e6a5c9f5be"
      },
      "execution_count": null,
      "outputs": [
        {
          "output_type": "execute_result",
          "data": {
            "text/plain": [
              "'I want to translate this text'"
            ],
            "application/vnd.google.colaboratory.intrinsic+json": {
              "type": "string"
            }
          },
          "metadata": {},
          "execution_count": 5
        }
      ]
    },
    {
      "cell_type": "markdown",
      "source": [
        "Furthermore, you can translate from a text file. This is also straightforward and can be achieved easily by updating the previous code. I also wanted to indicate here that the source and target languages can be passed by names instead of abbreviations."
      ],
      "metadata": {
        "id": "bSPAODEXPiSd"
      }
    },
    {
      "cell_type": "code",
      "source": [
        "from deep_translator import GoogleTranslator\n",
        "translated = GoogleTranslator(source='english', target='german').translate_file('path/to/file')"
      ],
      "metadata": {
        "id": "M9D_zOdQPi45"
      },
      "execution_count": null,
      "outputs": []
    },
    {
      "cell_type": "markdown",
      "source": [
        "# **PONS**\n",
        "\n",
        "PONS is one of Germany’s leading language publishers. It is mostly famous for translating single words or small sentences. It has a rich database of words and can even outperform google translate when it comes to translating words and getting synonyms.\n",
        "Luckily, the deep_translator also support PONS. The following code demonstrates how to use it. The API looks like the previous one with only small changes"
      ],
      "metadata": {
        "id": "Q6SiHqAKP8cW"
      }
    },
    {
      "cell_type": "code",
      "source": [
        "from deep_translator import PonsTranslator\n",
        "word = 'bien'\n",
        "translated_word = PonsTranslator(source='french', target='english').translate(word, return_all=False)\n",
        "translated_word"
      ],
      "metadata": {
        "colab": {
          "base_uri": "https://localhost:8080/",
          "height": 34
        },
        "id": "QOGfl-PKQAnS",
        "outputId": "42203937-613a-41b5-b7a9-aba4787a9df9"
      },
      "execution_count": null,
      "outputs": [
        {
          "output_type": "execute_result",
          "data": {
            "text/plain": [
              "'to be good in part'"
            ],
            "application/vnd.google.colaboratory.intrinsic+json": {
              "type": "string"
            }
          },
          "metadata": {},
          "execution_count": 8
        }
      ]
    },
    {
      "cell_type": "markdown",
      "source": [
        "**Furthermore, you can get all synonym or suggestions that pons returns**"
      ],
      "metadata": {
        "id": "w-tqaxvISwv6"
      }
    },
    {
      "cell_type": "code",
      "source": [
        "from deep_translator import PonsTranslator\n",
        "word = 'bien'\n",
        "translated_word = PonsTranslator(source='french', target='english').translate(word, return_all=True)\n",
        "translated_word"
      ],
      "metadata": {
        "colab": {
          "base_uri": "https://localhost:8080/"
        },
        "id": "ZJHMTOvISv1n",
        "outputId": "a64d2344-ccea-4b2a-b702-9458963f9f22"
      },
      "execution_count": null,
      "outputs": [
        {
          "output_type": "execute_result",
          "data": {
            "text/plain": [
              "['to be good in part',\n",
              " 'to be good-looking',\n",
              " \"there's nothing of interest here\",\n",
              " \"that's good\",\n",
              " \"it's not nice to lie\",\n",
              " 'it would be nice if we could swim',\n",
              " \"it's the done thing to go to the opera\",\n",
              " 'the roses look nice ou good on the terrace',\n",
              " \"all's well that ends well\",\n",
              " 'well',\n",
              " 'not to feel well',\n",
              " \"you're out of your mind\",\n",
              " 'comfortable',\n",
              " 'these boots are comfortable',\n",
              " 'what comfortable chair',\n",
              " \"isn't it nice in the sun\",\n",
              " 'like it here',\n",
              " \"take my advice it'll serve you in good stead\",\n",
              " \"we're in fine mess\",\n",
              " 'nice district',\n",
              " 'respectable people',\n",
              " 'gentleman',\n",
              " 'good film',\n",
              " 'well',\n",
              " 'properly',\n",
              " 'correctly',\n",
              " 'well paid',\n",
              " 'well played',\n",
              " 'well done',\n",
              " 'to be well',\n",
              " 'to go well',\n",
              " 'it went well',\n",
              " \"the car isn't running properly ou right\",\n",
              " 'so-so',\n",
              " 'to speak very good Chinese to speak Chinese very well',\n",
              " 'his work is good',\n",
              " 'he does good job',\n",
              " 'good job',\n",
              " \"he's made good recovery\",\n",
              " 'to have good table manners',\n",
              " \"to make good use of one's time\",\n",
              " 'thought was doing the right thing',\n",
              " \"he's right to leave\",\n",
              " 'it serves her right',\n",
              " 'it would be good idea for you to go there',\n",
              " 'the thing to do would be to buy lamp',\n",
              " \"it's good thing refused\",\n",
              " 'thoroughly',\n",
              " 'completely',\n",
              " 'carefully',\n",
              " 'keep well over to the right',\n",
              " 'stand right in the corner at the front',\n",
              " 'to exploit situation to the full',\n",
              " 'well',\n",
              " 'well smartly',\n",
              " 'tastefully',\n",
              " 'comfortably',\n",
              " 'shapely woman',\n",
              " 'to go well together',\n",
              " 'to suit sb',\n",
              " 'to get on good terms with sb',\n",
              " 'to take remark in good part',\n",
              " 'very',\n",
              " 'very much',\n",
              " 'quite',\n",
              " 'he behaved very ou really badly',\n",
              " 'that was very long time ago',\n",
              " \"it's rather far for us\",\n",
              " 'thank you very much',\n",
              " \"you're quite ou absolutely right\",\n",
              " \"it's great ou real pity\",\n",
              " 'to have good laugh time rest',\n",
              " \"you're looking very pensive\",\n",
              " 'is that promise',\n",
              " 'is that clear',\n",
              " 'on the contrary',\n",
              " \"that's all very well but\",\n",
              " 'much ou far better less worse',\n",
              " 'much too ugly late',\n",
              " 'much ou far richer more expensive',\n",
              " 'not only that he also takes her money',\n",
              " 'of course',\n",
              " 'naturally',\n",
              " 'quite often',\n",
              " \"wouldn't mind going to Bali\",\n",
              " \"wouldn't mind another\",\n",
              " \"don't mind helping you\",\n",
              " 'would love to try',\n",
              " 'would ask you to stay come but',\n",
              " 'think tree would look nice on the lawn',\n",
              " 'can just imagine him living in Paris',\n",
              " 'it has to be done to come to an end',\n",
              " \"we'll just have to get used to it\",\n",
              " \"she'll just have to pay\",\n",
              " 'you could at least have told me',\n",
              " \"he'll calm down eventually\",\n",
              " 'it just goes to prove show that',\n",
              " 'do hope that',\n",
              " 'do see understand',\n",
              " 'know think that',\n",
              " 'make sure you insist',\n",
              " 'make sure you tell him her',\n",
              " \"well we'll see\",\n",
              " 'let me tell you that will never accept',\n",
              " 'you can be sure ou can assure you that would not hesitate',\n",
              " 'thought as much',\n",
              " 'told you not to eat it',\n",
              " \"if he can do it why can't\",\n",
              " 'will you do as tell you',\n",
              " 'you can easily do it yourself',\n",
              " 'it might well rain',\n",
              " 'what on earth can he be doing in Paris',\n",
              " 'definitely',\n",
              " \"it's definitely him my bag\",\n",
              " \"it's him my bag all right\",\n",
              " \"checked he's definitely gone\",\n",
              " \"checked he's gone all right\",\n",
              " \"that's definitely ou exactly what he said saw\",\n",
              " 'and it was definitely him driving',\n",
              " \"it's not mistake it's fraud\",\n",
              " \"today is Tuesday isn't it\",\n",
              " \"this is where you get tickets isn't it\",\n",
              " \"are you sure you've got the keys\",\n",
              " 'is it really necessary',\n",
              " 'was it really suicide',\n",
              " \"it's just like him\",\n",
              " \"that's politics for you\",\n",
              " 'great timing',\n",
              " 'what time to leave',\n",
              " 'at least',\n",
              " \"she's at least 40 she's good 40 years old\",\n",
              " 'it weighs at least ten kilos it weighs good ten kilos',\n",
              " \"it's worth at least twice as much\",\n",
              " 'that was good many years ago',\n",
              " 'often many time',\n",
              " 'lots of people',\n",
              " \"he's gone to lot ou great deal of trouble\",\n",
              " 'far from it',\n",
              " 'my son is great worry to me',\n",
              " 'to be very lucky',\n",
              " 'wish you joy',\n",
              " 'good',\n",
              " 'for the good of the country',\n",
              " 'for the general good',\n",
              " \"it's for your own good\",\n",
              " 'it would be good thing',\n",
              " 'to put others first',\n",
              " 'good and evil',\n",
              " 'to do good',\n",
              " 'he has done lot of good',\n",
              " \"it's good for the children plants\",\n",
              " 'it does you them good',\n",
              " 'my rest did me world of good',\n",
              " 'much good may it do you',\n",
              " \"to have sb's best interests at heart\",\n",
              " 'to wish sb well',\n",
              " '‘from well-wisher’ ‘one who has your best interests at heart’',\n",
              " 'to speak well of sb',\n",
              " 'people speak very highly of the mayor museum',\n",
              " 'lot of nice things were said about you',\n",
              " 'to speak favourably of sb',\n",
              " 'possession',\n",
              " 'property',\n",
              " 'estate',\n",
              " 'property uncountable',\n",
              " 'fortune',\n",
              " 'assets',\n",
              " \"to lose all one's possessions in fire\",\n",
              " 'this book is my most precious possession',\n",
              " 'material possessions',\n",
              " 'small property in Corsica',\n",
              " \"to inherit one's father's property ou estate\",\n",
              " \"to squander one's fortune\",\n",
              " 'to own property',\n",
              " 'to be wealthy',\n",
              " 'substantial assets',\n",
              " \"you can't put price on good health freedom\",\n",
              " \"good let's see the rest\",\n",
              " \"all right all right I'm coming\",\n",
              " \"OK OK I'm coming\",\n",
              " 'although though',\n",
              " 'although he knows',\n",
              " 'although she lives in Florida see her regularly',\n",
              " 'he came in to work although he had flu',\n",
              " 'although very different in appearance the two works have common features',\n",
              " 'he plays an important role albeit discreet one',\n",
              " 'consumer goods',\n",
              " 'consumer durables',\n",
              " 'capital goods',\n",
              " 'household goods',\n",
              " 'land uncountable',\n",
              " 'immovables',\n",
              " 'fixtures',\n",
              " 'real estate uncountable',\n",
              " 'personal property uncountable',\n",
              " 'private property uncountable',\n",
              " 'separate estate',\n",
              " 'to hold sth as separate estate',\n",
              " 'public property uncountable',\n",
              " 'corporate assets',\n",
              " 'ti',\n",
              " 'if',\n",
              " 'ifs and buts',\n",
              " 'yes',\n",
              " \"‘don't you want it ’—‘yes do\",\n",
              " \"‘haven't they sold their house yet ’—‘yes think they have’\",\n",
              " \"he won't go but will\",\n",
              " 'yes of course',\n",
              " \"‘don't you want it ’—‘yes of course do’\",\n",
              " 'yes indeed',\n",
              " 'so',\n",
              " \"it's not so simple\",\n",
              " 'so early in the morning',\n",
              " 'so early',\n",
              " \"he's such pleasant man\",\n",
              " 'you live in such lovely country',\n",
              " \"I'm glad to visit your town it's so pretty\",\n",
              " 'was so afraid that',\n",
              " 'so',\n",
              " 'so much so that',\n",
              " \"she hasn't written so don't know what time she's arriving\",\n",
              " 'she was flapping about all over the place so much so that she fell over',\n",
              " 'so much so that',\n",
              " \"there's nothing so beautiful as sunset\",\n",
              " 'is she as stupid as people say she is',\n",
              " 'however far away you go ou no matter how far away you go we will be able to find you',\n",
              " \"as intelligent as he is ou however intelligent he is he can't know everything\",\n",
              " 'however hard the situation may be',\n",
              " 'however little it may be',\n",
              " 'if',\n",
              " \"if it wasn't you who was it\",\n",
              " \"he didn't take anything with him apart from ou other than book and his umbrella\",\n",
              " 'one of the most beautiful cities if not the most beautiful',\n",
              " 'nobody understood except the best pupil in the class',\n",
              " \"if it weren't for fear of getting ill I'd go with you\",\n",
              " 'what purpose do these meetings serve other than to waste our time',\n",
              " \"if that's how it is I'm leaving\",\n",
              " \"if he comes tomorrow and the weather's fine\",\n",
              " 'only he can find solution if there is one ou solution',\n",
              " 'if so',\n",
              " \"was he in Paris if he was who was he with if he wasn't why\",\n",
              " 'tell me everything if you can do it that is',\n",
              " \"don't know if he will be able to lend us the money before Sunday if he's willing to lend it to us at all that is\",\n",
              " 'if such distinction makes any sense',\n",
              " \"he's brave man if ever there was one\",\n",
              " 'he was an educated man if ever there was one',\n",
              " 'if',\n",
              " 'if were rich',\n",
              " 'if were you',\n",
              " 'would be glad if it rained',\n",
              " 'if',\n",
              " 'if had known that he was in Paris would have invited him',\n",
              " 'if had had the money',\n",
              " 'if',\n",
              " 'if he cried she would pick him up straightaway',\n",
              " 'when was child used to hate being disturbed if ou when was reading',\n",
              " 'if only',\n",
              " 'if only you could come wish you would come',\n",
              " 'if only you had phoned me',\n",
              " 'if only',\n",
              " \"if only I'd known had known\",\n",
              " 'you can imagine how happy was',\n",
              " 'do want to leave but of course do',\n",
              " 'just imagine if ou just suppose meet him in the street',\n",
              " \"how ou what about coming with me why don't you come with me\",\n",
              " 'how ou what about going out for dinner',\n",
              " \"why don't you come and spend the weekend with us\",\n",
              " 'and what if he decided not to come',\n",
              " \"why don't you write to him her\",\n",
              " 'whereas',\n",
              " 'whereas France is in favour of the project the other countries are violently opposed to it',\n",
              " 'if whether',\n",
              " \"wonder if ou whether he'll come\",\n",
              " 'or',\n",
              " 'would you like to drink beer or wine',\n",
              " 'you could give her necklace or else watch',\n",
              " 'are you coming in or are you going out',\n",
              " 'are you coming or not',\n",
              " 'Istanbul or Constantinople',\n",
              " 'are you making fun of me or what',\n",
              " \"let's meet at the Sorbonne or rather at the Pantheon\",\n",
              " 'would be happy with small apartment or even just room',\n",
              " \"you can pick me up at home or else we'll meet outside the cinema\",\n",
              " 'tired or not we have to go home',\n",
              " 'whether you like it or not',\n",
              " 'can offer you gin brandy or vodka',\n",
              " 'or',\n",
              " 'either… or…',\n",
              " 'either you put out your cigarette or you leave the room',\n",
              " \"he's either very shy or very rude\",\n",
              " \"it's one of two things he's either absent-minded or he's stupid\",\n",
              " 'or',\n",
              " 'there were three or four hundred people in the room',\n",
              " \"they'll stay two or three days\",\n",
              " 'honour uncountable',\n",
              " 'sense of honour',\n",
              " 'man of honour',\n",
              " 'my our etc honour is safe',\n",
              " \"to cast slur on to avenge sb's honour\",\n",
              " \"to put one's honour at stake\",\n",
              " 'to make it point of honour to do',\n",
              " \"to promise on one's honour\",\n",
              " 'to be honour bound to do',\n",
              " 'to uphold the honour of sb',\n",
              " 'national pride',\n",
              " 'to save face',\n",
              " \"to appeal to sb's sense of honour\",\n",
              " \"to honour one's word one's commitments\",\n",
              " 'honourably',\n",
              " 'honourably',\n",
              " 'to play for the love of it',\n",
              " 'to fight as matter of honour',\n",
              " \"to be credit to one's family one's school\",\n",
              " 'credit',\n",
              " 'your honesty does you credit',\n",
              " 'these words do credit to their author',\n",
              " \"it's to sb's credit that he she etc did\",\n",
              " 'it was all credit to them that they did',\n",
              " 'credit for the victory is due to',\n",
              " 'honour',\n",
              " 'to have the honour of doing',\n",
              " 'to give do sb the honour of doing',\n",
              " 'to let sb have the honour of doing',\n",
              " \"it's an honour to do\",\n",
              " \"it's great honour for sb to do\",\n",
              " 'to fight over the honour of sth of doing',\n",
              " 'to whom do have the honour of speaking',\n",
              " 'loser goes first',\n",
              " 'you do the honours',\n",
              " 'you flatter me',\n",
              " 'beg to inform you that',\n",
              " 'would respectfully request permission to do',\n",
              " 'main',\n",
              " 'to be honoured',\n",
              " 'to honour sb',\n",
              " 'to be in favour',\n",
              " 'to regain favour',\n",
              " 'renewed popularity',\n",
              " 'to honour sb',\n",
              " 'to do justice to meal',\n",
              " 'all praise to him those who',\n",
              " \"in sb's honour\",\n",
              " 'in honour of sth',\n",
              " 'any particular reason why',\n",
              " \"any particular reason why you're late\",\n",
              " 'honour',\n",
              " 'honours',\n",
              " 'to seek shun honours',\n",
              " 'honourably',\n",
              " 'with all the honour due to their rank',\n",
              " 'to be received with the ceremony reserved for heads of State',\n",
              " 'to pay the last honours to',\n",
              " 'to honour',\n",
              " 'wealth and glory',\n",
              " 'to show sb around the house',\n",
              " 'to do sb the honours of the house',\n",
              " 'to be mentioned in the press',\n",
              " 'last honours',\n",
              " 'military honours',\n",
              " 'with no hidden motive',\n",
              " 'he invited her out to dinner with no ulterior motive',\n",
              " \"he came round for drink but that's all there was to it\",\n",
              " 'enemy',\n",
              " 'in enemy territory',\n",
              " 'countries which have been enemies for centuries',\n",
              " 'hostile',\n",
              " 'to be opposed to sth',\n",
              " 'enemy',\n",
              " 'traditional enemy',\n",
              " 'to make enemies',\n",
              " 'to make an enemy of sb',\n",
              " 'to go over to the enemy',\n",
              " 'to fall into enemy hands',\n",
              " 'he is public enemy number one',\n",
              " 'opponent',\n",
              " 'censorship is the enemy of free society',\n",
              " 'alcohol damages your liver health',\n",
              " 'perfectionism can be counter-productive',\n",
              " 'too',\n",
              " 'as well',\n",
              " 'also',\n",
              " 'have work too',\n",
              " \"he'll be away and so will\",\n",
              " 'went to Paris Lyons and Montpellier too ou as well went to Paris Lyons and also Montpellier',\n",
              " '‘I love jazz’—‘me too’ ‘so do I’',\n",
              " \"she's teacher too ou as well\",\n",
              " 'my father was vet too ou as well',\n",
              " \"we're leaving too ou as well\",\n",
              " \"that's our opinion too ou as well that's also our opinion\",\n",
              " \"he's painter and also musician he's painter and musician too ou as well\",\n",
              " '‘have nice day ’—‘thanks you too',\n",
              " 'as old kind boring overloaded as',\n",
              " 'as strange ridiculous as it may seem',\n",
              " 'as rich as she may be',\n",
              " 'rich though she is however rich she is',\n",
              " 'this programme concerns women as well as men',\n",
              " 'as long as',\n",
              " \"it's just as well\",\n",
              " \"it's just as good like that\",\n",
              " \"it's just as well\",\n",
              " 'so',\n",
              " \"didn't know he was so old\",\n",
              " \"I've never seen anything so beautiful\",\n",
              " \"they don't make such nice ones nowadays\",\n",
              " 'in such nice house',\n",
              " 'after such long absence after being away so long',\n",
              " 'to get such good results',\n",
              " 'so consequently',\n",
              " \"her car wouldn't start so she was late\",\n",
              " 'he worked hard so ou consequently he succeeded',\n",
              " \"suspected it so I'm not entirely surprised\",\n",
              " '‘her bag was stolen’—‘well it was stupid to leave it lying about',\n",
              " 'why on earth did you go there',\n",
              " 'acquired',\n",
              " 'acquired',\n",
              " 'accepted established',\n",
              " 'the gains',\n",
              " 'to take sth for granted ou as read',\n",
              " 'knowledge',\n",
              " \"to draw on one's knowledge\",\n",
              " 'achievement',\n",
              " 'wage union gains',\n",
              " 'social benefits',\n",
              " 'that is one thing gained',\n",
              " 'acquired knowledge',\n",
              " 'nature versus nurture',\n",
              " 'acquis communautaire',\n",
              " 'ill-gotten gains never prosper',\n",
              " 'to acquire',\n",
              " 'to purchase',\n",
              " 'to inherit sth',\n",
              " 'to acquire',\n",
              " 'to undergo training',\n",
              " 'to become convinced that',\n",
              " 'to gain proof of',\n",
              " \"this has won you your colleagues' admiration support\",\n",
              " 'to acquire',\n",
              " 'to gain in value',\n",
              " 'it has become important',\n",
              " 'to gain speed',\n",
              " 'we have his support',\n",
              " 'we can count on his good will',\n",
              " 'it is accepted that',\n",
              " 'to be easy to acquire',\n",
              " 'to be inherited',\n",
              " \"it's something you acquire ou pick up\",\n",
              " 'experience comes with age',\n",
              " 'wealth de of',\n",
              " 'abundance de of',\n",
              " 'abundant supply de of',\n",
              " 'in abundance',\n",
              " \"there's plenty of\",\n",
              " 'wine flowed freely',\n",
              " 'affluence',\n",
              " 'to live in affluence',\n",
              " 'to speak at great length',\n",
              " 'wealth does no harm',\n",
              " 'well-being',\n",
              " 'feeling of well-being',\n",
              " 'the well-being of society',\n",
              " 'welfare de of',\n",
              " \"to ensure the children's welfare\",\n",
              " 'comforts',\n",
              " 'material comforts',\n",
              " 'right-mindedness',\n",
              " 'political correctness',\n",
              " 'right-minded people',\n",
              " 'right-thinking',\n",
              " 'self-righteous',\n",
              " 'right-thinking person',\n",
              " 'self-righteous person',\n",
              " 'validity',\n",
              " 'legitimacy',\n",
              " \"it's settled\",\n",
              " '‘will you come tomorrow ’—‘OK',\n",
              " \"I'm doing this on the understanding that\",\n",
              " 'knowing',\n",
              " 'with knowing look',\n",
              " 'with knowing wink smile',\n",
              " 'of course',\n",
              " \"she's forgotten of course\",\n",
              " 'naturally nobody saw anything',\n",
              " 'of course she knows nothing',\n",
              " 'to hear',\n",
              " 'to hear sb crying',\n",
              " 'he is crying—yes can hear him',\n",
              " \"can't you hear it it's quite clear\",\n",
              " 'to manage to make oneself heard',\n",
              " 'did you hear that',\n",
              " \"didn't hear properly\",\n",
              " 'if heard correctly',\n",
              " 'an expression you hear in the country',\n",
              " \"to hear sth with one's own ears\",\n",
              " \"what's this hear you're leaving us\",\n",
              " \"she's hard of hearing\",\n",
              " 'to give cry groan',\n",
              " 'there was the sound of an explosion',\n",
              " \"I've heard say that\",\n",
              " \"I've never heard of it\",\n",
              " \"don't want to hear another word about it\",\n",
              " \"you haven't heard the last of it\",\n",
              " 'nothing more has been heard about the project',\n",
              " 'his name is never mentioned any more',\n",
              " 'to hear',\n",
              " 'to hear',\n",
              " 'to attend mass',\n",
              " 'according to you everything is fine',\n",
              " \"to tell sth to anyone who'll listen\",\n",
              " \"I've never heard such nonsense\",\n",
              " \"she won't listen\",\n",
              " \"let's hope that's how it turns out\",\n",
              " 'to understand',\n",
              " \"don't understand much about it\",\n",
              " \"‘it's confidential’—‘I quite understand’\",\n",
              " 'he does as he likes',\n",
              " 'do as you think best',\n",
              " 'not to be able to make oneself understood',\n",
              " 'not to be able to get through to sb',\n",
              " 'she gave me to understand that',\n",
              " 'she intimated that',\n",
              " \"they don't see it that way\",\n",
              " 'to mean',\n",
              " 'what do you mean by that',\n",
              " \"it isn't painful mean no more than an injection\",\n",
              " 'marxism as philosophy',\n",
              " 'to intend doing to have the intention of doing',\n",
              " 'have every intention of staying here',\n",
              " 'expect people to do what say',\n",
              " 'to get on ou along avec with',\n",
              " 'they get on ou along really well',\n",
              " \"they don't get on ou along\",\n",
              " 'to agree sur on',\n",
              " 'to agree on time',\n",
              " \"shall we tell them the truth or not let's get it straight\",\n",
              " 'it goes without saying nobody must tell them the truth',\n",
              " 'to be heard',\n",
              " 'to hear oneself',\n",
              " 'to hear each other',\n",
              " 'you could hear it on the other side of town',\n",
              " 'sentence which can be taken in several different ways',\n",
              " 'after payment of course',\n",
              " 'of course',\n",
              " \"it's not exactly that but know what mean\",\n",
              " 'to know about antiques',\n",
              " 'to be good at portraits',\n",
              " \"when it comes to making you feel guilty she's an expert at it ou she's got it down to fine art\",\n",
              " 'bien-pensant',\n",
              " 'bien-pensant',\n",
              " 'bien-être']"
            ]
          },
          "metadata": {},
          "execution_count": 13
        }
      ]
    },
    {
      "cell_type": "markdown",
      "source": [
        "# **Linguee**\n",
        "\n",
        "The Linguee translator is an online bilingual concordance that provides an online dictionary for a number of language pairs, including many bilingual sentence pairs. Same as previous translators, this functionality is integrated in the deep_translator package."
      ],
      "metadata": {
        "id": "NTyUMFU7TX1P"
      }
    },
    {
      "cell_type": "code",
      "source": [
        "from deep_translator import LingueeTranslator\n",
        "word = 'bien'\n",
        "translated_word = LingueeTranslator(source='french', target='english').translate(word)\n",
        "translated_word"
      ],
      "metadata": {
        "colab": {
          "base_uri": "https://localhost:8080/",
          "height": 34
        },
        "id": "Esk5xVChTabB",
        "outputId": "cf50c102-6bf4-4476-f5bf-bff6f6e2d788"
      },
      "execution_count": null,
      "outputs": [
        {
          "output_type": "execute_result",
          "data": {
            "text/plain": [
              "'well'"
            ],
            "application/vnd.google.colaboratory.intrinsic+json": {
              "type": "string"
            }
          },
          "metadata": {},
          "execution_count": 15
        }
      ]
    },
    {
      "cell_type": "markdown",
      "source": [
        "# **Python translation libraries**\n",
        "\n",
        "Translators\n",
        "\n",
        "Deep-translator\n",
        "\n",
        "Googletrans\n",
        "\n",
        "Translate"
      ],
      "metadata": {
        "id": "3y1IJ3ZVU3I-"
      }
    },
    {
      "cell_type": "markdown",
      "source": [
        "# **Translators**\n",
        "\n",
        "The translators package is probably one of the best choices out there.\n",
        "\n",
        "**Pros:**\n",
        "\n",
        "It is actively supported.\n",
        "\n",
        "It does not have many open issues and appears stable.\n",
        "\n",
        "Its package supports around a dozen different translation APIs.\n",
        "\n",
        "It can be used to translate HTML.\n",
        "\n",
        "It supports batch translations.\n",
        "\n",
        "**Cons:**\n",
        "\n",
        "It does not provide many customization options.\n",
        "\n",
        "Translators does not allow performance of language detection only.\n",
        "\n",
        "The response contains the translated text without any additional information."
      ],
      "metadata": {
        "id": "L-M2Gq7wVA3m"
      }
    },
    {
      "cell_type": "code",
      "source": [
        "from googletrans import Translator\n",
        "\n",
        "translator = Translator()\n",
        "text = 'Tovuti hii ni ajabu'\n",
        "\n",
        "try:\n",
        "    translation = translator.translate(text, dest='en')\n",
        "    translated_text = translation.text\n",
        "    print(translated_text)\n",
        "except Exception as e:\n",
        "    print(\"Translation failed:\", str(e))"
      ],
      "metadata": {
        "colab": {
          "base_uri": "https://localhost:8080/"
        },
        "id": "D2mBc_jkVJu6",
        "outputId": "5083e8cb-0b6a-4a10-8341-f881999090ad"
      },
      "execution_count": null,
      "outputs": [
        {
          "output_type": "stream",
          "name": "stdout",
          "text": [
            "This site is amazing\n"
          ]
        }
      ]
    },
    {
      "cell_type": "markdown",
      "source": [
        "# **Deep-translator**\n",
        "\n",
        "Deep-translator also seems like a very solid option.\n",
        "\n",
        "**Pros:**\n",
        "\n",
        "It has support for multiple translation APIs, including Google, Microsoft, Yandex, Libre, and others.\n",
        "\n",
        "Allows performance of translations directly from a text file (unfortunately, it has to be in .txt format).\n",
        "\n",
        "Can be used directly from a terminal.\n",
        "\n",
        "Supports batch translations.\n",
        "\n",
        "**Cons:**\n",
        "\n",
        "Language detection is only possible with a private API key.\n",
        "\n",
        "The package’s community seems to have become less active."
      ],
      "metadata": {
        "id": "S-EXdakXVrb5"
      }
    },
    {
      "cell_type": "code",
      "source": [
        "from deep_translator import GoogleTranslator\n",
        "\n",
        "text = 'Tovuti hii ni ajabu'\n",
        "translator = GoogleTranslator(source='swahili', target='english')\n",
        "\n",
        "try:\n",
        "    translated_text = translator.translate(text)\n",
        "    print(translated_text)\n",
        "except Exception as e:\n",
        "    print(\"Translation failed:\", str(e))"
      ],
      "metadata": {
        "colab": {
          "base_uri": "https://localhost:8080/"
        },
        "id": "jV3njQz1WF7E",
        "outputId": "5f29760c-1efd-451c-9aea-9cd499d372d6"
      },
      "execution_count": null,
      "outputs": [
        {
          "output_type": "stream",
          "name": "stdout",
          "text": [
            "This site is amazing\n"
          ]
        }
      ]
    },
    {
      "cell_type": "markdown",
      "source": [
        "# **Googletrans**\n",
        "\n",
        "Googletrans is the library that, as the name suggests, enables you to easily translate any text using Google Translate. While it’s still a feasible solution, it does have certain issues.\n",
        "\n",
        "**Pros:**\n",
        "\n",
        "No configuration or authentication needed; you can start using the library right away.\n",
        "\n",
        "It has a text language detection feature.\n",
        "\n",
        "The returned data contains extra information like translation confidence score or potential mistakes.\n",
        "\n",
        "**Cons:**\n",
        "\n",
        "The biggest problem is that this package no longer appears to be actively maintained.\n",
        "\n",
        "The latest stable release has unresolved issues and you’ll have to install release candidate instead.\n",
        "\n",
        "Certain additional data no longer seems to be available."
      ],
      "metadata": {
        "id": "9m6FMMyYWLss"
      }
    },
    {
      "cell_type": "code",
      "source": [
        "from googletrans import Translator\n",
        "\n",
        "text = 'Tovuti hii ni ajabu'\n",
        "translator = Translator()\n",
        "\n",
        "try:\n",
        "    translated = translator.translate(text, dest='en')\n",
        "    translated_text = translated.text\n",
        "    print(translated_text)\n",
        "except Exception as e:\n",
        "    print(\"Translation failed:\", str(e))"
      ],
      "metadata": {
        "colab": {
          "base_uri": "https://localhost:8080/"
        },
        "id": "9Bx2gayPWeZn",
        "outputId": "56a39615-d10f-4246-ff14-9621d8abe6be"
      },
      "execution_count": null,
      "outputs": [
        {
          "output_type": "stream",
          "name": "stdout",
          "text": [
            "This site is amazing\n"
          ]
        }
      ]
    },
    {
      "cell_type": "markdown",
      "source": [
        "# **Translate**"
      ],
      "metadata": {
        "id": "2W58iTWHZNzY"
      }
    },
    {
      "cell_type": "code",
      "source": [
        "!pip install translate"
      ],
      "metadata": {
        "colab": {
          "base_uri": "https://localhost:8080/"
        },
        "id": "aSzxPFDvYen5",
        "outputId": "256b25dc-d5ce-4b5d-942c-a0e003775975"
      },
      "execution_count": null,
      "outputs": [
        {
          "output_type": "stream",
          "name": "stdout",
          "text": [
            "Collecting translate\n",
            "  Downloading translate-3.6.1-py2.py3-none-any.whl (12 kB)\n",
            "Requirement already satisfied: click in /usr/local/lib/python3.10/dist-packages (from translate) (8.1.3)\n",
            "Requirement already satisfied: lxml in /usr/local/lib/python3.10/dist-packages (from translate) (4.9.2)\n",
            "Requirement already satisfied: requests in /usr/local/lib/python3.10/dist-packages (from translate) (2.27.1)\n",
            "Collecting libretranslatepy==2.1.1 (from translate)\n",
            "  Downloading libretranslatepy-2.1.1-py3-none-any.whl (3.2 kB)\n",
            "Requirement already satisfied: urllib3<1.27,>=1.21.1 in /usr/local/lib/python3.10/dist-packages (from requests->translate) (1.26.16)\n",
            "Requirement already satisfied: certifi>=2017.4.17 in /usr/local/lib/python3.10/dist-packages (from requests->translate) (2023.5.7)\n",
            "Requirement already satisfied: charset-normalizer~=2.0.0 in /usr/local/lib/python3.10/dist-packages (from requests->translate) (2.0.12)\n",
            "Requirement already satisfied: idna<4,>=2.5 in /usr/local/lib/python3.10/dist-packages (from requests->translate) (2.10)\n",
            "Installing collected packages: libretranslatepy, translate\n",
            "Successfully installed libretranslatepy-2.1.1 translate-3.6.1\n"
          ]
        }
      ]
    },
    {
      "cell_type": "code",
      "source": [
        "from googletrans import Translator\n",
        "\n",
        "text = 'Tovuti hii ni ajabu'\n",
        "translator = Translator()\n",
        "\n",
        "try:\n",
        "    translated = translator.translate(text, dest='en')\n",
        "    translated_text = translated.text\n",
        "    print(translated_text)\n",
        "except Exception as e:\n",
        "    print(\"Translation failed:\", str(e))"
      ],
      "metadata": {
        "colab": {
          "base_uri": "https://localhost:8080/"
        },
        "id": "bKLdr3C9Xgx3",
        "outputId": "744fb6f9-47af-4ef9-8b29-94cdbc8c7798"
      },
      "execution_count": null,
      "outputs": [
        {
          "output_type": "stream",
          "name": "stdout",
          "text": [
            "This site is amazing\n"
          ]
        }
      ]
    },
    {
      "cell_type": "code",
      "source": [
        "from translate import Translator\n",
        "\n",
        "text = 'Tovuti hii ni ajabu'\n",
        "translator = Translator(to_lang='en')\n",
        "translated_text = translator.translate(text)\n",
        "\n",
        "print(translated_text)"
      ],
      "metadata": {
        "colab": {
          "base_uri": "https://localhost:8080/"
        },
        "id": "f9StgkCfY_9a",
        "outputId": "538aafe9-4428-4673-b0ea-0f7328f14013"
      },
      "execution_count": null,
      "outputs": [
        {
          "output_type": "stream",
          "name": "stdout",
          "text": [
            "Tovuti hii ni ajabu\n"
          ]
        }
      ]
    },
    {
      "cell_type": "markdown",
      "source": [
        "# **TextBlob**"
      ],
      "metadata": {
        "id": "YUP_8z8dcmRe"
      }
    },
    {
      "cell_type": "code",
      "source": [
        "!pip install -U textblob\n",
        "!python -m textblob.download_corpora"
      ],
      "metadata": {
        "colab": {
          "base_uri": "https://localhost:8080/"
        },
        "id": "w-V737qwa-bd",
        "outputId": "8a2b27d2-f5ed-4a35-d972-4bbee5a60efd"
      },
      "execution_count": null,
      "outputs": [
        {
          "output_type": "stream",
          "name": "stdout",
          "text": [
            "Requirement already satisfied: textblob in /usr/local/lib/python3.10/dist-packages (0.17.1)\n",
            "Requirement already satisfied: nltk>=3.1 in /usr/local/lib/python3.10/dist-packages (from textblob) (3.8.1)\n",
            "Requirement already satisfied: click in /usr/local/lib/python3.10/dist-packages (from nltk>=3.1->textblob) (8.1.3)\n",
            "Requirement already satisfied: joblib in /usr/local/lib/python3.10/dist-packages (from nltk>=3.1->textblob) (1.2.0)\n",
            "Requirement already satisfied: regex>=2021.8.3 in /usr/local/lib/python3.10/dist-packages (from nltk>=3.1->textblob) (2022.10.31)\n",
            "Requirement already satisfied: tqdm in /usr/local/lib/python3.10/dist-packages (from nltk>=3.1->textblob) (4.65.0)\n",
            "[nltk_data] Downloading package brown to /root/nltk_data...\n",
            "[nltk_data]   Unzipping corpora/brown.zip.\n",
            "[nltk_data] Downloading package punkt to /root/nltk_data...\n",
            "[nltk_data]   Unzipping tokenizers/punkt.zip.\n",
            "[nltk_data] Downloading package wordnet to /root/nltk_data...\n",
            "[nltk_data] Downloading package averaged_perceptron_tagger to\n",
            "[nltk_data]     /root/nltk_data...\n",
            "[nltk_data]   Unzipping taggers/averaged_perceptron_tagger.zip.\n",
            "[nltk_data] Downloading package conll2000 to /root/nltk_data...\n",
            "[nltk_data]   Unzipping corpora/conll2000.zip.\n",
            "[nltk_data] Downloading package movie_reviews to /root/nltk_data...\n",
            "[nltk_data]   Unzipping corpora/movie_reviews.zip.\n",
            "Finished.\n"
          ]
        }
      ]
    },
    {
      "cell_type": "code",
      "source": [
        "from textblob import TextBlob"
      ],
      "metadata": {
        "id": "NHLzjSgQckK2"
      },
      "execution_count": null,
      "outputs": []
    },
    {
      "cell_type": "code",
      "source": [
        "from textblob import TextBlob\n",
        "from googletrans import Translator\n",
        "\n",
        "text = 'Salut comment allez-vous?'\n",
        "blob = TextBlob(text)\n",
        "translator = Translator()\n",
        "\n",
        "try:\n",
        "    translated = translator.translate(blob.raw, dest='en')\n",
        "    translated_text = translated.text\n",
        "\n",
        "    print(translated_text)\n",
        "except Exception as e:\n",
        "    print(\"Translation failed:\", str(e))"
      ],
      "metadata": {
        "colab": {
          "base_uri": "https://localhost:8080/"
        },
        "id": "q_3OWKWZc9ce",
        "outputId": "bdf9b041-45e0-4a79-94dd-c360afb89477"
      },
      "execution_count": null,
      "outputs": [
        {
          "output_type": "stream",
          "name": "stdout",
          "text": [
            "Hi, how are you doing?\n"
          ]
        }
      ]
    },
    {
      "cell_type": "markdown",
      "source": [
        "**Use translate-api.**\n",
        "\n",
        "It is a bit slow, but the advantage it has over the other ones which still work is that, say, you give it something like “Tum kaun ho?”, which is the english version of hindi for ‘who are you?’, it still gives you the right answer.\n",
        "\n",
        "Update: It too has stopped working now. Use translatepy instead."
      ],
      "metadata": {
        "id": "ColPFdw2Jxyp"
      }
    },
    {
      "cell_type": "code",
      "source": [],
      "metadata": {
        "id": "v489o4ZzKery"
      },
      "execution_count": null,
      "outputs": []
    }
  ]
}