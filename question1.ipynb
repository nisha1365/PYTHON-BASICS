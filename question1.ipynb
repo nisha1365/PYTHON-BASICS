{
  "nbformat": 4,
  "nbformat_minor": 0,
  "metadata": {
    "colab": {
      "name": "question1.ipynb",
      "provenance": [],
      "authorship_tag": "ABX9TyMnGN9zjjJP+nmvNQXujhbP",
      "include_colab_link": true
    },
    "kernelspec": {
      "name": "python3",
      "display_name": "Python 3"
    },
    "language_info": {
      "name": "python"
    }
  },
  "cells": [
    {
      "cell_type": "markdown",
      "metadata": {
        "id": "view-in-github",
        "colab_type": "text"
      },
      "source": [
        "<a href=\"https://colab.research.google.com/github/nisha1365/Python-basics/blob/main/question1.ipynb\" target=\"_parent\"><img src=\"https://colab.research.google.com/assets/colab-badge.svg\" alt=\"Open In Colab\"/></a>"
      ]
    },
    {
      "cell_type": "code",
      "execution_count": 18,
      "metadata": {
        "id": "oVqaAdcXmfIg"
      },
      "outputs": [],
      "source": [
        "def list(n):# n is the count of the numbers that we are planning to insert in the list\n",
        "  b = []\n",
        "  for x in range(n):\n",
        "    a = input('Enter a number: ')\n",
        "    b.append(a)\n",
        "  b = set(b)\n",
        "  print(b)"
      ]
    },
    {
      "cell_type": "code",
      "source": [
        "list(5)"
      ],
      "metadata": {
        "colab": {
          "base_uri": "https://localhost:8080/"
        },
        "id": "t-rVaXZSn4zb",
        "outputId": "533f2940-f138-4716-a920-17e8a8d792ed"
      },
      "execution_count": 19,
      "outputs": [
        {
          "output_type": "stream",
          "name": "stdout",
          "text": [
            "Enter a number: 2\n",
            "Enter a number: 2\n",
            "Enter a number: 5\n",
            "Enter a number: 6\n",
            "Enter a number: 7\n",
            "{'7', '2', '6', '5'}\n"
          ]
        }
      ]
    }
  ]
}